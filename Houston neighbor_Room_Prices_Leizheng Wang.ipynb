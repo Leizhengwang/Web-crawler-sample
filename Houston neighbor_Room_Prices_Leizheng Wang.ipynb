{
 "cells": [
  {
   "cell_type": "markdown",
   "metadata": {},
   "source": [
    "# #Rooms_prices"
   ]
  },
  {
   "cell_type": "code",
   "execution_count": 59,
   "metadata": {},
   "outputs": [],
   "source": [
    "#import get to call a get request on the site\n",
    "from requests import get"
   ]
  },
  {
   "cell_type": "code",
   "execution_count": 60,
   "metadata": {},
   "outputs": [
    {
     "name": "stdout",
     "output_type": "stream",
     "text": [
      "<!DOCTYPE html>\n",
      "<html class=\"no-js\">\n",
      "<head>\n",
      "    \n",
      "\t<meta charset=\"UTF-8\">\n",
      "\t<meta http-equiv=\"X-UA-Compatible\" content=\"IE=Edge\">\n",
      "\t<meta name=\"viewport\" content=\"width=device-width,initial-scale=1\">\n",
      "\t<meta property=\"og:site_name\" content=\"craigslist\">\n",
      "\t<meta name=\"twitter:card\" content=\"preview\">\n",
      "\t<meta property=\"og:title\" content=\"east bay real estate - by owner - craigslist\">\n",
      "\t<meta name=\"description\" content=\"east bay real estate - by owner - craigslist\">\n",
      "\t<meta property=\"og:description\" conten\n"
     ]
    }
   ],
   "source": [
    "#get the first page of the east bay housing prices\n",
    "response = get('https://sfbay.craigslist.org/search/eby/reo?hasPic=1') #get rid of those lame-o's that post a housing option without a pic using their filter\n",
    "\n",
    "print(response.text[:500])"
   ]
  },
  {
   "cell_type": "code",
   "execution_count": 61,
   "metadata": {},
   "outputs": [],
   "source": [
    "from bs4 import BeautifulSoup"
   ]
  },
  {
   "cell_type": "code",
   "execution_count": 62,
   "metadata": {},
   "outputs": [
    {
     "data": {
      "text/plain": [
       "bs4.BeautifulSoup"
      ]
     },
     "execution_count": 62,
     "metadata": {},
     "output_type": "execute_result"
    }
   ],
   "source": [
    "#grab the HTML as a BS4 soup object\n",
    "html_soup = BeautifulSoup(response.text, 'html.parser')\n",
    "type(html_soup)"
   ]
  },
  {
   "cell_type": "code",
   "execution_count": 63,
   "metadata": {},
   "outputs": [
    {
     "name": "stdout",
     "output_type": "stream",
     "text": [
      "<class 'bs4.element.ResultSet'>\n",
      "203\n"
     ]
    }
   ],
   "source": [
    "#get the macro-container for the housing posts\n",
    "posts = html_soup.find_all('li', class_= 'result-row')                      #Li\n",
    "print(type(posts)) #to double check that I got a ResultSet\n",
    "print(len(posts)) #to double check I got 50 (elements/page)"
   ]
  },
  {
   "cell_type": "code",
   "execution_count": 64,
   "metadata": {},
   "outputs": [
    {
     "data": {
      "text/plain": [
       "<li class=\"result-row\" data-pid=\"7330922669\" data-repost-of=\"7031040360\">\n",
       "<a class=\"result-image gallery\" data-ids=\"3:00j0j_g8edTFlXYKfz_0ac071,3:00707_3XE6c0yiEuZz_09Z06R,3:00G0G_lGxZ1u2ALWGz_09Z07o,3:01616_8FsV5L3g0Gmz_09P07a,3:00B0B_7pX0C3p6C5Bz_09W07n,3:00q0q_gjfW8HGMdB1z_09K07a,3:00s0s_4agTdPUYp2Gz_0a907o,3:00u0u_dULURXNdc9rz_08Z07M,3:00h0h_hJrHyoOnKDtz_09M07l,3:00w0w_7JEGeAtDmBCz_09H06M,3:01616_abeP41JOoEez_09G06V,3:00I0I_jTjG03IWgICz_09U073,3:00a0a_k0gUGFN6fcYz_09S07E,3:01515_2f16RSxuiLtz_08W07s,3:00B0B_a5jb0XPe9axz_09i076,3:00S0S_3RnsEklWIaFz_09x07j,3:00505_4G6cYfWz4BAz_09O074,3:00S0S_4CEPQyMwUMjz_09z07j,3:00707_jvcSxKMIyuoz_07p06T,3:00k0k_3QbAhLJiJhKz_09v070,3:00V0V_kDJetsJNzyez_09G07c,3:01717_2qlSW9e1OwUz_09U06L\" href=\"https://sfbay.craigslist.org/eby/reo/d/oakland-upper-rockridge-br-ba-for-sale/7330922669.html\">\n",
       "<span class=\"result-price\">$0</span>\n",
       "</a>\n",
       "<div class=\"result-info\">\n",
       "<span class=\"icon icon-star\" role=\"button\">\n",
       "<span class=\"screen-reader-text\">favorite this post</span>\n",
       "</span>\n",
       "<time class=\"result-date\" datetime=\"2021-06-24 15:06\" title=\"Thu 24 Jun 03:06:51 PM\">Jun 24</time>\n",
       "<h3 class=\"result-heading\">\n",
       "<a class=\"result-title hdrlnk\" data-id=\"7330922669\" href=\"https://sfbay.craigslist.org/eby/reo/d/oakland-upper-rockridge-br-ba-for-sale/7330922669.html\" id=\"postid_7330922669\">Upper Rockridge 4 Br,  4 Ba for  sale , exchange or rent</a>\n",
       "</h3>\n",
       "<span class=\"result-meta\">\n",
       "<span class=\"result-price\">$0</span>\n",
       "<span class=\"housing\">\n",
       "                    3000ft<sup>2</sup> -\n",
       "                </span>\n",
       "<span class=\"result-hood\"> (oakland rockridge / claremont)</span>\n",
       "<span class=\"result-tags\">\n",
       "<span class=\"pictag\">pic</span>\n",
       "</span>\n",
       "<span class=\"banish icon icon-trash\" role=\"button\">\n",
       "<span class=\"screen-reader-text\">hide this posting</span>\n",
       "</span>\n",
       "<span aria-hidden=\"true\" class=\"unbanish icon icon-trash red\" role=\"button\"></span>\n",
       "<a class=\"restore-link\" href=\"#\">\n",
       "<span class=\"restore-narrow-text\">restore</span>\n",
       "<span class=\"restore-wide-text\">restore this posting</span>\n",
       "</a>\n",
       "</span>\n",
       "</div>\n",
       "</li>"
      ]
     },
     "execution_count": 64,
     "metadata": {},
     "output_type": "execute_result"
    }
   ],
   "source": [
    "#grab the first post\n",
    "post_one = posts[1]\n",
    "post_one"
   ]
  },
  {
   "cell_type": "code",
   "execution_count": 65,
   "metadata": {},
   "outputs": [
    {
     "data": {
      "text/plain": [
       "'\\n$0\\n'"
      ]
     },
     "execution_count": 65,
     "metadata": {},
     "output_type": "execute_result"
    }
   ],
   "source": [
    "#grab the price of the first post\n",
    "post_one_price = post_one.a.text\n",
    "post_one_price"
   ]
  },
  {
   "cell_type": "code",
   "execution_count": 66,
   "metadata": {},
   "outputs": [
    {
     "data": {
      "text/plain": [
       "'15:06'"
      ]
     },
     "execution_count": 66,
     "metadata": {},
     "output_type": "execute_result"
    }
   ],
   "source": [
    "#grab the time of the post in datetime format to save on cleaning efforts\n",
    "post_one_time = post_one.find('time', class_= 'result-date')\n",
    "post_one_datetime = post_one_time['datetime']\n",
    "\n",
    "#split them and grab each element of the resulting list to get date and time\n",
    "post_one_datetime = post_one_datetime.split(' ')\n",
    "post_one_date = post_one_datetime[0]\n",
    "post_one_date\n",
    "\n",
    "#element 2 is the time\n",
    "post_one_time = post_one_datetime[1]\n",
    "\n",
    "post_one_time"
   ]
  },
  {
   "cell_type": "code",
   "execution_count": 67,
   "metadata": {},
   "outputs": [
    {
     "data": {
      "text/plain": [
       "'https://sfbay.craigslist.org/eby/reo/d/oakland-upper-rockridge-br-ba-for-sale/7330922669.html'"
      ]
     },
     "execution_count": 67,
     "metadata": {},
     "output_type": "execute_result"
    }
   ],
   "source": [
    "#title is a and that class, link is grabbing the href attribute of that variable\n",
    "post_one_title = post_one.find('a', class_='result-title hdrlnk')\n",
    "post_one_link = post_one_title['href']\n",
    "post_one_link"
   ]
  },
  {
   "cell_type": "code",
   "execution_count": 68,
   "metadata": {},
   "outputs": [
    {
     "data": {
      "text/plain": [
       "'Upper Rockridge 4 Br,  4 Ba for  sale , exchange or rent'"
      ]
     },
     "execution_count": 68,
     "metadata": {},
     "output_type": "execute_result"
    }
   ],
   "source": [
    "#easy to grab the post title by taking the text element of the title variable\n",
    "post_one_title_text = post_one_title.text                               #.text\n",
    "post_one_title_text"
   ]
  },
  {
   "cell_type": "code",
   "execution_count": 69,
   "metadata": {},
   "outputs": [],
   "source": [
    "#the neighborhood is grabbed by finding the span class 'result-hood' and pulling the text element from that\n",
    "#post_one_hood = post_one.find('span', class_= 'result-hood').text\n",
    "#post_one_hood"
   ]
  },
  {
   "cell_type": "code",
   "execution_count": null,
   "metadata": {},
   "outputs": [],
   "source": []
  },
  {
   "cell_type": "code",
   "execution_count": 70,
   "metadata": {},
   "outputs": [
    {
     "data": {
      "text/plain": [
       "'\\n                    3000ft2 -\\n                '"
      ]
     },
     "execution_count": 70,
     "metadata": {},
     "output_type": "execute_result"
    }
   ],
   "source": [
    "# area  floorplan\n",
    "\n",
    "post_one_area = post_one.find('span', class_='housing').text\n",
    "post_one_area"
   ]
  },
  {
   "cell_type": "code",
   "execution_count": null,
   "metadata": {},
   "outputs": [],
   "source": []
  },
  {
   "cell_type": "code",
   "execution_count": 71,
   "metadata": {},
   "outputs": [
    {
     "name": "stdout",
     "output_type": "stream",
     "text": [
      "Finished iteration: 1\n"
     ]
    }
   ],
   "source": [
    "#build out the loop\n",
    "from time import sleep\n",
    "from random import randint\n",
    "from warnings import warn\n",
    "from time import time\n",
    "from IPython.core.display import clear_output\n",
    "import numpy as np\n",
    "\n",
    "#find the total number of posts to find the limit of the pagination\n",
    "results_num = html_soup.find('div', class_= 'search-legend')\n",
    "results_total = int(results_num.find('span', class_='totalcount').text)\n",
    "\n",
    "pages = np.arange(0, results_total, 120)\n",
    "\n",
    "iterations = 0\n",
    "\n",
    "post_timing = []\n",
    "post_hoods = []\n",
    "post_title_texts = []\n",
    "post_links = []\n",
    "post_prices = []\n",
    "post_areas = []\n",
    "\n",
    "for page in pages:\n",
    "    \n",
    "    #get request\n",
    "    response = get(\"https://sfbay.craigslist.org/search/eby/reo?hasPic=1?\" \n",
    "                   + \"s=\" \n",
    "                   + str(page) \n",
    "                   + \"&hasPic=1\"\n",
    "                   + \"&availabilityMode=0\")\n",
    "\n",
    "    sleep(randint(1,5))\n",
    "     \n",
    "    #throw warning for status codes that are not 200\n",
    "    if response.status_code != 200:\n",
    "        warn('Request: {}; Status code: {}'.format(requests, response.status_code))\n",
    "        \n",
    "    #define the html text\n",
    "    page_html = BeautifulSoup(response.text, 'html.parser')\n",
    "    \n",
    "    #define the posts\n",
    "    posts = html_soup.find_all('li', class_= 'result-row')\n",
    "        \n",
    "    #extract data item-wise\n",
    "    for post in posts:\n",
    "\n",
    "        if post.find('span', class_ = 'result-hood') is not None:\n",
    "\n",
    "            #posting date\n",
    "            #grab the datetime element 0 for date and 1 for time\n",
    "            post_datetime = post.find('time', class_= 'result-date')['datetime']\n",
    "            post_timing.append(post_datetime)\n",
    "\n",
    "            #neighborhoods\n",
    "            post_hood = post.find('span', class_= 'result-hood').text\n",
    "            post_hoods.append(post_hood)\n",
    "            \n",
    "            #post_area = post.find('span', class_='housing').text\n",
    "            #post_areas.append(post_area)\n",
    "\n",
    "            #title text\n",
    "            post_title = post.find('a', class_='result-title hdrlnk')\n",
    "            post_title_text = post_title.text\n",
    "            post_title_texts.append(post_title_text)\n",
    "\n",
    "            #post link\n",
    "            post_link = post_title['href']\n",
    "            post_links.append(post_link)\n",
    "\n",
    "            post_price = post.a.text\n",
    "            post_prices.append(post_price)\n",
    "            \n",
    "\n",
    "\n",
    "\n",
    "    iterations += 1\n",
    "    print(\"Finished iteration: \" + str(iterations))"
   ]
  },
  {
   "cell_type": "code",
   "execution_count": 72,
   "metadata": {
    "slideshow": {
     "slide_type": "slide"
    }
   },
   "outputs": [
    {
     "name": "stdout",
     "output_type": "stream",
     "text": [
      "<class 'pandas.core.frame.DataFrame'>\n",
      "RangeIndex: 152 entries, 0 to 151\n",
      "Data columns (total 5 columns):\n",
      " #   Column        Non-Null Count  Dtype \n",
      "---  ------        --------------  ----- \n",
      " 0   posted        152 non-null    object\n",
      " 1   neighborhood  152 non-null    object\n",
      " 2   post title    152 non-null    object\n",
      " 3   URL           152 non-null    object\n",
      " 4   price         152 non-null    object\n",
      "dtypes: object(5)\n",
      "memory usage: 6.1+ KB\n",
      "None\n"
     ]
    },
    {
     "data": {
      "text/html": [
       "<div>\n",
       "<style scoped>\n",
       "    .dataframe tbody tr th:only-of-type {\n",
       "        vertical-align: middle;\n",
       "    }\n",
       "\n",
       "    .dataframe tbody tr th {\n",
       "        vertical-align: top;\n",
       "    }\n",
       "\n",
       "    .dataframe thead th {\n",
       "        text-align: right;\n",
       "    }\n",
       "</style>\n",
       "<table border=\"1\" class=\"dataframe\">\n",
       "  <thead>\n",
       "    <tr style=\"text-align: right;\">\n",
       "      <th></th>\n",
       "      <th>posted</th>\n",
       "      <th>neighborhood</th>\n",
       "      <th>post title</th>\n",
       "      <th>URL</th>\n",
       "      <th>price</th>\n",
       "    </tr>\n",
       "  </thead>\n",
       "  <tbody>\n",
       "    <tr>\n",
       "      <th>0</th>\n",
       "      <td>2021-06-24 15:07</td>\n",
       "      <td>(oakland rockridge / claremont)</td>\n",
       "      <td>Upper Rockridge 4 Br,  4 Ba for  sale , exchan...</td>\n",
       "      <td>https://sfbay.craigslist.org/eby/reo/d/oakland...</td>\n",
       "      <td>\\n$0\\n</td>\n",
       "    </tr>\n",
       "    <tr>\n",
       "      <th>1</th>\n",
       "      <td>2021-06-24 15:06</td>\n",
       "      <td>(oakland rockridge / claremont)</td>\n",
       "      <td>Upper Rockridge 4 Br,  4 Ba for  sale , exchan...</td>\n",
       "      <td>https://sfbay.craigslist.org/eby/reo/d/oakland...</td>\n",
       "      <td>\\n$0\\n</td>\n",
       "    </tr>\n",
       "    <tr>\n",
       "      <th>2</th>\n",
       "      <td>2021-06-24 15:05</td>\n",
       "      <td>(fremont / union city / newark)</td>\n",
       "      <td>Great opportunity to own this commuter’s dream...</td>\n",
       "      <td>https://sfbay.craigslist.org/eby/reo/d/newark-...</td>\n",
       "      <td>\\n$1,299,000\\n</td>\n",
       "    </tr>\n",
       "    <tr>\n",
       "      <th>3</th>\n",
       "      <td>2021-06-24 15:05</td>\n",
       "      <td>(fremont / union city / newark)</td>\n",
       "      <td>Great opportunity to own this commuter’s dream...</td>\n",
       "      <td>https://sfbay.craigslist.org/eby/reo/d/newark-...</td>\n",
       "      <td>\\n$1,299,000\\n</td>\n",
       "    </tr>\n",
       "    <tr>\n",
       "      <th>4</th>\n",
       "      <td>2021-06-24 14:22</td>\n",
       "      <td>(alameda)</td>\n",
       "      <td>HOME TOUR TODAY 2 Bedroom 1 Bathroom HOUSE</td>\n",
       "      <td>https://sfbay.craigslist.org/eby/reo/d/san-lea...</td>\n",
       "      <td>\\n$2,588\\n</td>\n",
       "    </tr>\n",
       "    <tr>\n",
       "      <th>5</th>\n",
       "      <td>2021-06-24 13:42</td>\n",
       "      <td>(West Sacramento)</td>\n",
       "      <td>Take this home off the market for just $1,000!...</td>\n",
       "      <td>https://sfbay.craigslist.org/eby/reo/d/sacrame...</td>\n",
       "      <td>\\n$512,900\\n</td>\n",
       "    </tr>\n",
       "    <tr>\n",
       "      <th>6</th>\n",
       "      <td>2021-06-24 12:37</td>\n",
       "      <td>(oakland lake merritt / grand)</td>\n",
       "      <td>Hard Money Financing</td>\n",
       "      <td>https://sfbay.craigslist.org/eby/reo/d/oakland...</td>\n",
       "      <td>\\n$2\\n</td>\n",
       "    </tr>\n",
       "    <tr>\n",
       "      <th>7</th>\n",
       "      <td>2021-06-24 11:27</td>\n",
       "      <td>(vallejo / benicia)</td>\n",
       "      <td>A family is looking to buy a home off-market.</td>\n",
       "      <td>https://sfbay.craigslist.org/eby/reo/d/port-co...</td>\n",
       "      <td>\\n$450,000\\n</td>\n",
       "    </tr>\n",
       "    <tr>\n",
       "      <th>8</th>\n",
       "      <td>2021-06-24 11:10</td>\n",
       "      <td>(berkeley north / hills)</td>\n",
       "      <td>Cottage near transportation shopping campus</td>\n",
       "      <td>https://sfbay.craigslist.org/eby/reo/d/berkele...</td>\n",
       "      <td>\\n$1,950\\n</td>\n",
       "    </tr>\n",
       "    <tr>\n",
       "      <th>9</th>\n",
       "      <td>2021-06-24 09:34</td>\n",
       "      <td>(oakland west)</td>\n",
       "      <td>West Oakland Development Site near Port,  BART...</td>\n",
       "      <td>https://sfbay.craigslist.org/eby/reo/d/oakland...</td>\n",
       "      <td>\\n$2,000,000\\n</td>\n",
       "    </tr>\n",
       "  </tbody>\n",
       "</table>\n",
       "</div>"
      ],
      "text/plain": [
       "             posted                      neighborhood  \\\n",
       "0  2021-06-24 15:07   (oakland rockridge / claremont)   \n",
       "1  2021-06-24 15:06   (oakland rockridge / claremont)   \n",
       "2  2021-06-24 15:05   (fremont / union city / newark)   \n",
       "3  2021-06-24 15:05   (fremont / union city / newark)   \n",
       "4  2021-06-24 14:22                         (alameda)   \n",
       "5  2021-06-24 13:42                 (West Sacramento)   \n",
       "6  2021-06-24 12:37    (oakland lake merritt / grand)   \n",
       "7  2021-06-24 11:27               (vallejo / benicia)   \n",
       "8  2021-06-24 11:10          (berkeley north / hills)   \n",
       "9  2021-06-24 09:34                    (oakland west)   \n",
       "\n",
       "                                          post title  \\\n",
       "0  Upper Rockridge 4 Br,  4 Ba for  sale , exchan...   \n",
       "1  Upper Rockridge 4 Br,  4 Ba for  sale , exchan...   \n",
       "2  Great opportunity to own this commuter’s dream...   \n",
       "3  Great opportunity to own this commuter’s dream...   \n",
       "4         HOME TOUR TODAY 2 Bedroom 1 Bathroom HOUSE   \n",
       "5  Take this home off the market for just $1,000!...   \n",
       "6                               Hard Money Financing   \n",
       "7      A family is looking to buy a home off-market.   \n",
       "8        Cottage near transportation shopping campus   \n",
       "9  West Oakland Development Site near Port,  BART...   \n",
       "\n",
       "                                                 URL           price  \n",
       "0  https://sfbay.craigslist.org/eby/reo/d/oakland...          \\n$0\\n  \n",
       "1  https://sfbay.craigslist.org/eby/reo/d/oakland...          \\n$0\\n  \n",
       "2  https://sfbay.craigslist.org/eby/reo/d/newark-...  \\n$1,299,000\\n  \n",
       "3  https://sfbay.craigslist.org/eby/reo/d/newark-...  \\n$1,299,000\\n  \n",
       "4  https://sfbay.craigslist.org/eby/reo/d/san-lea...      \\n$2,588\\n  \n",
       "5  https://sfbay.craigslist.org/eby/reo/d/sacrame...    \\n$512,900\\n  \n",
       "6  https://sfbay.craigslist.org/eby/reo/d/oakland...          \\n$2\\n  \n",
       "7  https://sfbay.craigslist.org/eby/reo/d/port-co...    \\n$450,000\\n  \n",
       "8  https://sfbay.craigslist.org/eby/reo/d/berkele...      \\n$1,950\\n  \n",
       "9  https://sfbay.craigslist.org/eby/reo/d/oakland...  \\n$2,000,000\\n  "
      ]
     },
     "execution_count": 72,
     "metadata": {},
     "output_type": "execute_result"
    }
   ],
   "source": [
    "import pandas as pd\n",
    "\n",
    "eb_rooms = pd.DataFrame({'posted': post_timing,\n",
    "                       'neighborhood': post_hoods,\n",
    "                       'post title': post_title_texts,\n",
    "                       'URL': post_links,\n",
    "                       #'Area': post_areas,\n",
    "                       'price': post_prices})\n",
    "print(eb_rooms.info())\n",
    "eb_rooms.head(10)"
   ]
  },
  {
   "cell_type": "markdown",
   "metadata": {},
   "source": [
    "# Data cleaning"
   ]
  },
  {
   "cell_type": "code",
   "execution_count": 73,
   "metadata": {},
   "outputs": [
    {
     "name": "stdout",
     "output_type": "stream",
     "text": [
      "<class 'pandas.core.frame.DataFrame'>\n",
      "RangeIndex: 152 entries, 0 to 151\n",
      "Data columns (total 5 columns):\n",
      " #   Column        Non-Null Count  Dtype         \n",
      "---  ------        --------------  -----         \n",
      " 0   posted        152 non-null    datetime64[ns]\n",
      " 1   neighborhood  152 non-null    object        \n",
      " 2   post title    152 non-null    object        \n",
      " 3   URL           152 non-null    object        \n",
      " 4   price         152 non-null    object        \n",
      "dtypes: datetime64[ns](1), object(4)\n",
      "memory usage: 6.1+ KB\n"
     ]
    }
   ],
   "source": [
    "#convert datetime string into datetime object to be able to work with it\n",
    "from datetime import datetime\n",
    "\n",
    "eb_rooms['posted'] = pd.to_datetime(eb_rooms['posted'])\n",
    "eb_rooms.info()"
   ]
  },
  {
   "cell_type": "code",
   "execution_count": 74,
   "metadata": {},
   "outputs": [],
   "source": [
    "eb_rooms['price'] = eb_rooms['price'].astype(str)                                 #.astype(str)"
   ]
  },
  {
   "cell_type": "code",
   "execution_count": 75,
   "metadata": {},
   "outputs": [],
   "source": [
    "import re                                                                            ##re.sub(r'[\\n$,]+', '', x))  \n",
    "\n",
    "eb_rooms['price'] = eb_rooms['price'].apply(lambda x: re.sub(r'[\\n$,]+', '', x))  \n",
    "\n",
    "#replace '' with NaN values in the df before turning the column to int so data shape is maintained"
   ]
  },
  {
   "cell_type": "code",
   "execution_count": 76,
   "metadata": {},
   "outputs": [],
   "source": [
    "import numpy as np\n",
    "eb_rooms['price'].replace('', np.nan, inplace=True)"
   ]
  },
  {
   "cell_type": "code",
   "execution_count": 77,
   "metadata": {},
   "outputs": [],
   "source": [
    "#drop the NAs, I don't like them and we have a lot of data\n",
    "eb_rooms = eb_rooms.dropna()"
   ]
  },
  {
   "cell_type": "code",
   "execution_count": 78,
   "metadata": {},
   "outputs": [],
   "source": [
    "#first remove the parentheses                                                                       #\n",
    "eb_rooms['neighborhood'] = eb_rooms['neighborhood'].apply(lambda x: re.sub(r'[()]+', '', x))\n",
    "\n",
    "#and the /\n",
    "eb_rooms['neighborhood'] = eb_rooms['neighborhood'].apply(lambda x: re.sub(r'[/]+', '', x))\n",
    "\n",
    "#and commas\n",
    "eb_rooms['neighborhood'] = eb_rooms['neighborhood'].apply(lambda x: re.sub(r'[,]+', '', x)) "
   ]
  },
  {
   "cell_type": "code",
   "execution_count": 79,
   "metadata": {},
   "outputs": [],
   "source": [
    "#people spam craigslist so how many of these are unique?\n",
    "eb_rooms = eb_rooms.drop_duplicates(subset='URL')"
   ]
  },
  {
   "cell_type": "code",
   "execution_count": 80,
   "metadata": {},
   "outputs": [
    {
     "data": {
      "text/html": [
       "<div>\n",
       "<style scoped>\n",
       "    .dataframe tbody tr th:only-of-type {\n",
       "        vertical-align: middle;\n",
       "    }\n",
       "\n",
       "    .dataframe tbody tr th {\n",
       "        vertical-align: top;\n",
       "    }\n",
       "\n",
       "    .dataframe thead th {\n",
       "        text-align: right;\n",
       "    }\n",
       "</style>\n",
       "<table border=\"1\" class=\"dataframe\">\n",
       "  <thead>\n",
       "    <tr style=\"text-align: right;\">\n",
       "      <th></th>\n",
       "      <th>posted</th>\n",
       "      <th>neighborhood</th>\n",
       "      <th>post title</th>\n",
       "      <th>URL</th>\n",
       "      <th>price</th>\n",
       "    </tr>\n",
       "  </thead>\n",
       "  <tbody>\n",
       "    <tr>\n",
       "      <th>0</th>\n",
       "      <td>2021-06-24 15:07:00</td>\n",
       "      <td>oakland rockridge  claremont</td>\n",
       "      <td>Upper Rockridge 4 Br,  4 Ba for  sale , exchan...</td>\n",
       "      <td>https://sfbay.craigslist.org/eby/reo/d/oakland...</td>\n",
       "      <td>0</td>\n",
       "    </tr>\n",
       "    <tr>\n",
       "      <th>1</th>\n",
       "      <td>2021-06-24 15:06:00</td>\n",
       "      <td>oakland rockridge  claremont</td>\n",
       "      <td>Upper Rockridge 4 Br,  4 Ba for  sale , exchan...</td>\n",
       "      <td>https://sfbay.craigslist.org/eby/reo/d/oakland...</td>\n",
       "      <td>0</td>\n",
       "    </tr>\n",
       "    <tr>\n",
       "      <th>2</th>\n",
       "      <td>2021-06-24 15:05:00</td>\n",
       "      <td>fremont  union city  newark</td>\n",
       "      <td>Great opportunity to own this commuter’s dream...</td>\n",
       "      <td>https://sfbay.craigslist.org/eby/reo/d/newark-...</td>\n",
       "      <td>1299000</td>\n",
       "    </tr>\n",
       "    <tr>\n",
       "      <th>3</th>\n",
       "      <td>2021-06-24 15:05:00</td>\n",
       "      <td>fremont  union city  newark</td>\n",
       "      <td>Great opportunity to own this commuter’s dream...</td>\n",
       "      <td>https://sfbay.craigslist.org/eby/reo/d/newark-...</td>\n",
       "      <td>1299000</td>\n",
       "    </tr>\n",
       "    <tr>\n",
       "      <th>4</th>\n",
       "      <td>2021-06-24 14:22:00</td>\n",
       "      <td>alameda</td>\n",
       "      <td>HOME TOUR TODAY 2 Bedroom 1 Bathroom HOUSE</td>\n",
       "      <td>https://sfbay.craigslist.org/eby/reo/d/san-lea...</td>\n",
       "      <td>2588</td>\n",
       "    </tr>\n",
       "    <tr>\n",
       "      <th>...</th>\n",
       "      <td>...</td>\n",
       "      <td>...</td>\n",
       "      <td>...</td>\n",
       "      <td>...</td>\n",
       "      <td>...</td>\n",
       "    </tr>\n",
       "    <tr>\n",
       "      <th>147</th>\n",
       "      <td>2021-06-24 03:14:00</td>\n",
       "      <td>kewela Hi</td>\n",
       "      <td>OCEANFRONT BEACH LOT</td>\n",
       "      <td>https://sfbay.craigslist.org/sfc/reo/d/kaunaka...</td>\n",
       "      <td>299999</td>\n",
       "    </tr>\n",
       "    <tr>\n",
       "      <th>148</th>\n",
       "      <td>2021-06-24 02:19:00</td>\n",
       "      <td>My Private Idaho</td>\n",
       "      <td>Lazy River Lodge</td>\n",
       "      <td>https://sfbay.craigslist.org/sfc/reo/d/colburn...</td>\n",
       "      <td>1695000</td>\n",
       "    </tr>\n",
       "    <tr>\n",
       "      <th>149</th>\n",
       "      <td>2021-06-24 00:29:00</td>\n",
       "      <td>napa county</td>\n",
       "      <td>Commercial Building Angwin</td>\n",
       "      <td>https://sfbay.craigslist.org/nby/reo/d/angwin-...</td>\n",
       "      <td>1200000</td>\n",
       "    </tr>\n",
       "    <tr>\n",
       "      <th>150</th>\n",
       "      <td>2021-06-24 00:04:00</td>\n",
       "      <td>excelsior  outer mission</td>\n",
       "      <td>VACATION HOME SAN SALVADOR</td>\n",
       "      <td>https://sfbay.craigslist.org/sfc/reo/d/san-fra...</td>\n",
       "      <td>180000</td>\n",
       "    </tr>\n",
       "    <tr>\n",
       "      <th>151</th>\n",
       "      <td>2021-06-23 23:52:00</td>\n",
       "      <td>castro  upper market</td>\n",
       "      <td>Millions earned in Apartment Investing</td>\n",
       "      <td>https://sfbay.craigslist.org/sfc/reo/d/san-fra...</td>\n",
       "      <td>0</td>\n",
       "    </tr>\n",
       "  </tbody>\n",
       "</table>\n",
       "<p>152 rows × 5 columns</p>\n",
       "</div>"
      ],
      "text/plain": [
       "                 posted                   neighborhood  \\\n",
       "0   2021-06-24 15:07:00   oakland rockridge  claremont   \n",
       "1   2021-06-24 15:06:00   oakland rockridge  claremont   \n",
       "2   2021-06-24 15:05:00    fremont  union city  newark   \n",
       "3   2021-06-24 15:05:00    fremont  union city  newark   \n",
       "4   2021-06-24 14:22:00                        alameda   \n",
       "..                  ...                            ...   \n",
       "147 2021-06-24 03:14:00                      kewela Hi   \n",
       "148 2021-06-24 02:19:00               My Private Idaho   \n",
       "149 2021-06-24 00:29:00                    napa county   \n",
       "150 2021-06-24 00:04:00       excelsior  outer mission   \n",
       "151 2021-06-23 23:52:00           castro  upper market   \n",
       "\n",
       "                                            post title  \\\n",
       "0    Upper Rockridge 4 Br,  4 Ba for  sale , exchan...   \n",
       "1    Upper Rockridge 4 Br,  4 Ba for  sale , exchan...   \n",
       "2    Great opportunity to own this commuter’s dream...   \n",
       "3    Great opportunity to own this commuter’s dream...   \n",
       "4           HOME TOUR TODAY 2 Bedroom 1 Bathroom HOUSE   \n",
       "..                                                 ...   \n",
       "147                               OCEANFRONT BEACH LOT   \n",
       "148                                   Lazy River Lodge   \n",
       "149                         Commercial Building Angwin   \n",
       "150                         VACATION HOME SAN SALVADOR   \n",
       "151             Millions earned in Apartment Investing   \n",
       "\n",
       "                                                   URL    price  \n",
       "0    https://sfbay.craigslist.org/eby/reo/d/oakland...        0  \n",
       "1    https://sfbay.craigslist.org/eby/reo/d/oakland...        0  \n",
       "2    https://sfbay.craigslist.org/eby/reo/d/newark-...  1299000  \n",
       "3    https://sfbay.craigslist.org/eby/reo/d/newark-...  1299000  \n",
       "4    https://sfbay.craigslist.org/eby/reo/d/san-lea...     2588  \n",
       "..                                                 ...      ...  \n",
       "147  https://sfbay.craigslist.org/sfc/reo/d/kaunaka...   299999  \n",
       "148  https://sfbay.craigslist.org/sfc/reo/d/colburn...  1695000  \n",
       "149  https://sfbay.craigslist.org/nby/reo/d/angwin-...  1200000  \n",
       "150  https://sfbay.craigslist.org/sfc/reo/d/san-fra...   180000  \n",
       "151  https://sfbay.craigslist.org/sfc/reo/d/san-fra...        0  \n",
       "\n",
       "[152 rows x 5 columns]"
      ]
     },
     "execution_count": 80,
     "metadata": {},
     "output_type": "execute_result"
    }
   ],
   "source": [
    "eb_rooms"
   ]
  },
  {
   "cell_type": "code",
   "execution_count": 81,
   "metadata": {},
   "outputs": [],
   "source": [
    "#now turn the price to int\n",
    "eb_rooms['price'] = eb_rooms['price'].astype(int)"
   ]
  },
  {
   "cell_type": "code",
   "execution_count": 82,
   "metadata": {},
   "outputs": [
    {
     "name": "stdout",
     "output_type": "stream",
     "text": [
      "<class 'pandas.core.frame.DataFrame'>\n",
      "Int64Index: 152 entries, 0 to 151\n",
      "Data columns (total 5 columns):\n",
      " #   Column        Non-Null Count  Dtype         \n",
      "---  ------        --------------  -----         \n",
      " 0   posted        152 non-null    datetime64[ns]\n",
      " 1   neighborhood  152 non-null    object        \n",
      " 2   post title    152 non-null    object        \n",
      " 3   URL           152 non-null    object        \n",
      " 4   price         152 non-null    int32         \n",
      "dtypes: datetime64[ns](1), int32(1), object(3)\n",
      "memory usage: 6.5+ KB\n"
     ]
    }
   ],
   "source": [
    "eb_rooms.info() #finally a quantitative variable!"
   ]
  },
  {
   "cell_type": "code",
   "execution_count": 83,
   "metadata": {},
   "outputs": [],
   "source": [
    "eb_rooms['neighborhood'] = eb_rooms['neighborhood'].apply(lambda x: x.lstrip(' '))"
   ]
  },
  {
   "cell_type": "code",
   "execution_count": 84,
   "metadata": {},
   "outputs": [
    {
     "name": "stderr",
     "output_type": "stream",
     "text": [
      "C:\\Users\\Welcome\\anaconda3\\lib\\site-packages\\seaborn\\distributions.py:2551: FutureWarning: `distplot` is a deprecated function and will be removed in a future version. Please adapt your code to use either `displot` (a figure-level function with similar flexibility) or `histplot` (an axes-level function for histograms).\n",
      "  warnings.warn(msg, FutureWarning)\n"
     ]
    },
    {
     "data": {
      "image/png": "[encoded data removed]",
      "text/plain": [
       "<Figure size 432x288 with 1 Axes>"
      ]
     },
     "metadata": {
      "needs_background": "light"
     },
     "output_type": "display_data"
    }
   ],
   "source": [
    "#start to look at the distributions\n",
    "from matplotlib import figure\n",
    "import matplotlib as plt\n",
    "import seaborn as sns\n",
    "%matplotlib inline\n",
    "\n",
    "#figure(num=None, figsize=(8, 6), dpi=80, facecolor='w', edgecolor='k')\n",
    "sns.distplot(eb_rooms['price']);"
   ]
  },
  {
   "cell_type": "code",
   "execution_count": 86,
   "metadata": {},
   "outputs": [],
   "source": [
    "eb_rooms.to_csv('room_prices.csv',  encoding='utf-8', header='true')"
   ]
  },
  {
   "cell_type": "code",
   "execution_count": null,
   "metadata": {},
   "outputs": [],
   "source": []
  }
 ],
 "metadata": {
  "kernelspec": {
   "display_name": "Python 3",
   "language": "python",
   "name": "python3"
  },
  "language_info": {
   "codemirror_mode": {
    "name": "ipython",
    "version": 3
   },
   "file_extension": ".py",
   "mimetype": "text/x-python",
   "name": "python",
   "nbconvert_exporter": "python",
   "pygments_lexer": "ipython3",
   "version": "3.8.5"
  }
 },
 "nbformat": 4,
 "nbformat_minor": 2
}
