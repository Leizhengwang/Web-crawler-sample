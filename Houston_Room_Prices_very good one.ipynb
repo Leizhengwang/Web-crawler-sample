{
 "cells": [
  {
   "cell_type": "markdown",
   "metadata": {},
   "source": [
    "# Houston area: Rooms/Shares"
   ]
  },
  {
   "cell_type": "code",
   "execution_count": 29,
   "metadata": {},
   "outputs": [],
   "source": [
    "#import get to call a get request on the site\n",
    "from requests import get"
   ]
  },
  {
   "cell_type": "code",
   "execution_count": 30,
   "metadata": {},
   "outputs": [
    {
     "name": "stdout",
     "output_type": "stream",
     "text": [
      "<!DOCTYPE html>\n",
      "<html class=\"no-js\">\n",
      "<head>\n",
      "    \n",
      "\t<meta charset=\"UTF-8\">\n",
      "\t<meta http-equiv=\"X-UA-Compatible\" content=\"IE=Edge\">\n",
      "\t<meta name=\"viewport\" content=\"width=device-width,initial-scale=1\">\n",
      "\t<meta property=\"og:site_name\" content=\"craigslist\">\n",
      "\t<meta name=\"twitter:card\" content=\"preview\">\n",
      "\t<meta property=\"og:title\" content=\"houston rooms &amp; shares - craigslist\">\n",
      "\t<meta name=\"description\" content=\"houston rooms &amp; shares - craigslist\">\n",
      "\t<meta property=\"og:description\" content=\"houston\n"
     ]
    }
   ],
   "source": [
    "#get the first page of the east bay housing prices\n",
    "response = get('https://houston.craigslist.org/search/roo') #get rid of those lame-o's that post a housing option without a pic using their filter\n",
    "\n",
    "print(response.text[:500])"
   ]
  },
  {
   "cell_type": "code",
   "execution_count": 31,
   "metadata": {},
   "outputs": [],
   "source": [
    "from bs4 import BeautifulSoup"
   ]
  },
  {
   "cell_type": "code",
   "execution_count": 32,
   "metadata": {},
   "outputs": [
    {
     "data": {
      "text/plain": [
       "bs4.BeautifulSoup"
      ]
     },
     "execution_count": 32,
     "metadata": {},
     "output_type": "execute_result"
    }
   ],
   "source": [
    "#grab the HTML as a BS4 soup object\n",
    "html_soup = BeautifulSoup(response.text, 'html.parser')\n",
    "type(html_soup)"
   ]
  },
  {
   "cell_type": "code",
   "execution_count": 33,
   "metadata": {},
   "outputs": [
    {
     "name": "stdout",
     "output_type": "stream",
     "text": [
      "<class 'bs4.element.ResultSet'>\n",
      "120\n"
     ]
    }
   ],
   "source": [
    "#get the macro-container for the housing posts\n",
    "posts = html_soup.find_all('li', class_= 'result-row')                ###\n",
    "print(type(posts)) #to double check that I got a ResultSet\n",
    "print(len(posts)) #to double check I got 50 (elements/page)"
   ]
  },
  {
   "cell_type": "code",
   "execution_count": 42,
   "metadata": {},
   "outputs": [
    {
     "data": {
      "text/plain": [
       "<li class=\"result-row\" data-pid=\"7331476934\">\n",
       "<a class=\"result-image gallery\" data-ids=\"3:00X0X_50TVHhRb1ntz_0t20CI,3:00606_aDtW5XCDbRQz_0t20CI,3:00g0g_5hPWVXikZ3wz_0CI0t2,3:00n0n_eoVOcolpf3Wz_0t20CI,3:01515_5WOYs1Ly6hZz_0CI0t2,3:00202_fXZlImfL9Nxz_0CI0t2,3:00a0a_bcR2LPy2j5cz_0t20CI,3:00A0A_8Y77S7cIHmiz_0t20CI,3:00707_9KUFRCcTKVEz_0t20CI\" href=\"https://houston.craigslist.org/roo/d/houston-rooms-in-montrose-garage/7331476934.html\">\n",
       "<span class=\"result-price\">$975</span>\n",
       "</a>\n",
       "<div class=\"result-info\">\n",
       "<span class=\"icon icon-star\" role=\"button\">\n",
       "<span class=\"screen-reader-text\">favorite this post</span>\n",
       "</span>\n",
       "<time class=\"result-date\" datetime=\"2021-06-23 20:49\" title=\"Wed 23 Jun 08:49:37 PM\">Jun 23</time>\n",
       "<h3 class=\"result-heading\">\n",
       "<a class=\"result-title hdrlnk\" data-id=\"7331476934\" href=\"https://houston.craigslist.org/roo/d/houston-rooms-in-montrose-garage/7331476934.html\" id=\"postid_7331476934\">$975 - $1,025 2 Rooms in Montrose Garage Apartment - August 1st</a>\n",
       "</h3>\n",
       "<span class=\"result-meta\">\n",
       "<span class=\"result-price\">$975</span>\n",
       "<span class=\"housing\">\n",
       "                    3br -\n",
       "                    1200ft<sup>2</sup> -\n",
       "                </span>\n",
       "<span class=\"result-hood\"> (Montrose)</span>\n",
       "<span class=\"result-tags\">\n",
       "<span class=\"pictag\">pic</span>\n",
       "</span>\n",
       "<span class=\"banish icon icon-trash\" role=\"button\">\n",
       "<span class=\"screen-reader-text\">hide this posting</span>\n",
       "</span>\n",
       "<span aria-hidden=\"true\" class=\"unbanish icon icon-trash red\" role=\"button\"></span>\n",
       "<a class=\"restore-link\" href=\"#\">\n",
       "<span class=\"restore-narrow-text\">restore</span>\n",
       "<span class=\"restore-wide-text\">restore this posting</span>\n",
       "</a>\n",
       "</span>\n",
       "</div>\n",
       "</li>"
      ]
     },
     "execution_count": 42,
     "metadata": {},
     "output_type": "execute_result"
    }
   ],
   "source": [
    "#grab the first post\n",
    "post_one = posts[1]\n",
    "post_one"
   ]
  },
  {
   "cell_type": "code",
   "execution_count": 43,
   "metadata": {},
   "outputs": [
    {
     "data": {
      "text/plain": [
       "'\\n$975\\n'"
      ]
     },
     "execution_count": 43,
     "metadata": {},
     "output_type": "execute_result"
    }
   ],
   "source": [
    "#grab the price of the first post\n",
    "post_one_price = post_one.a.text\n",
    "post_one_price"
   ]
  },
  {
   "cell_type": "code",
   "execution_count": 44,
   "metadata": {},
   "outputs": [
    {
     "data": {
      "text/plain": [
       "'20:49'"
      ]
     },
     "execution_count": 44,
     "metadata": {},
     "output_type": "execute_result"
    }
   ],
   "source": [
    "#grab the time of the post in datetime format to save on cleaning efforts\n",
    "post_one_time = post_one.find('time', class_= 'result-date')\n",
    "post_one_datetime = post_one_time['datetime']\n",
    "\n",
    "#split them and grab each element of the resulting list to get date and time\n",
    "post_one_datetime = post_one_datetime.split(' ')\n",
    "post_one_date = post_one_datetime[0]\n",
    "post_one_date\n",
    "\n",
    "#element 2 is the time\n",
    "post_one_time = post_one_datetime[1]\n",
    "\n",
    "post_one_time"
   ]
  },
  {
   "cell_type": "code",
   "execution_count": 45,
   "metadata": {},
   "outputs": [
    {
     "data": {
      "text/plain": [
       "'https://houston.craigslist.org/roo/d/houston-rooms-in-montrose-garage/7331476934.html'"
      ]
     },
     "execution_count": 45,
     "metadata": {},
     "output_type": "execute_result"
    }
   ],
   "source": [
    "#title is a and that class, link is grabbing the href attribute of that variable\n",
    "post_one_title = post_one.find('a', class_='result-title hdrlnk')\n",
    "post_one_link = post_one_title['href']\n",
    "post_one_link"
   ]
  },
  {
   "cell_type": "code",
   "execution_count": 46,
   "metadata": {},
   "outputs": [
    {
     "data": {
      "text/plain": [
       "'$975 - $1,025 2 Rooms in Montrose Garage Apartment - August 1st'"
      ]
     },
     "execution_count": 46,
     "metadata": {},
     "output_type": "execute_result"
    }
   ],
   "source": [
    "#easy to grab the post title by taking the text element of the title variable\n",
    "post_one_title_text = post_one_title.text\n",
    "post_one_title_text"
   ]
  },
  {
   "cell_type": "code",
   "execution_count": 47,
   "metadata": {},
   "outputs": [
    {
     "data": {
      "text/plain": [
       "' (Montrose)'"
      ]
     },
     "execution_count": 47,
     "metadata": {},
     "output_type": "execute_result"
    }
   ],
   "source": [
    "#the neighborhood is grabbed by finding the span class 'result-hood' and pulling the text element from that\n",
    "post_one_hood = post_one.find('span', class_= 'result-hood').text\n",
    "post_one_hood"
   ]
  },
  {
   "cell_type": "code",
   "execution_count": 48,
   "metadata": {},
   "outputs": [
    {
     "name": "stdout",
     "output_type": "stream",
     "text": [
      "Finished iteration: 1\n",
      "Finished iteration: 2\n",
      "Finished iteration: 3\n",
      "Finished iteration: 4\n",
      "Finished iteration: 5\n",
      "Finished iteration: 6\n",
      "Finished iteration: 7\n"
     ]
    }
   ],
   "source": [
    "#build out the loop\n",
    "from time import sleep\n",
    "from random import randint\n",
    "from warnings import warn\n",
    "from time import time\n",
    "from IPython.core.display import clear_output\n",
    "import numpy as np\n",
    "\n",
    "#find the total number of posts to find the limit of the pagination\n",
    "results_num = html_soup.find('div', class_= 'search-legend')\n",
    "results_total = int(results_num.find('span', class_='totalcount').text)\n",
    "\n",
    "pages = np.arange(0, results_total, 120)\n",
    "\n",
    "iterations = 0\n",
    "\n",
    "post_timing = []\n",
    "post_hoods = []\n",
    "post_title_texts = []\n",
    "post_links = []\n",
    "post_prices = []\n",
    "\n",
    "for page in pages:\n",
    "    \n",
    "    #get request\n",
    "    response = get(\"https://sfbay.craigslist.org/search/eby/roo?\" \n",
    "                   + \"s=\" \n",
    "                   + str(page) \n",
    "                   + \"&hasPic=1\"\n",
    "                   + \"&availabilityMode=0\")\n",
    "\n",
    "    sleep(randint(1,5))\n",
    "     \n",
    "    #throw warning for status codes that are not 200\n",
    "    if response.status_code != 200:\n",
    "        warn('Request: {}; Status code: {}'.format(requests, response.status_code))\n",
    "        \n",
    "    #define the html text\n",
    "    page_html = BeautifulSoup(response.text, 'html.parser')\n",
    "    \n",
    "    #define the posts\n",
    "    posts = html_soup.find_all('li', class_= 'result-row')\n",
    "        \n",
    "    #extract data item-wise\n",
    "    for post in posts:\n",
    "\n",
    "        if post.find('span', class_ = 'result-hood') is not None:\n",
    "\n",
    "            #posting date\n",
    "            #grab the datetime element 0 for date and 1 for time\n",
    "            post_datetime = post.find('time', class_= 'result-date')['datetime']\n",
    "            post_timing.append(post_datetime)\n",
    "\n",
    "            #neighborhoods\n",
    "            post_hood = post.find('span', class_= 'result-hood').text\n",
    "            post_hoods.append(post_hood)\n",
    "\n",
    "            #title text\n",
    "            post_title = post.find('a', class_='result-title hdrlnk')\n",
    "            post_title_text = post_title.text\n",
    "            post_title_texts.append(post_title_text)\n",
    "\n",
    "            #post link\n",
    "            post_link = post_title['href']\n",
    "            post_links.append(post_link)\n",
    "\n",
    "            post_price = post.a.text\n",
    "            post_prices.append(post_price)\n",
    "\n",
    "\n",
    "    iterations += 1\n",
    "    print(\"Finished iteration: \" + str(iterations))"
   ]
  },
  {
   "cell_type": "code",
   "execution_count": 41,
   "metadata": {
    "slideshow": {
     "slide_type": "slide"
    }
   },
   "outputs": [
    {
     "name": "stdout",
     "output_type": "stream",
     "text": [
      "<class 'pandas.core.frame.DataFrame'>\n",
      "RangeIndex: 588 entries, 0 to 587\n",
      "Data columns (total 5 columns):\n",
      " #   Column        Non-Null Count  Dtype \n",
      "---  ------        --------------  ----- \n",
      " 0   posted        588 non-null    object\n",
      " 1   neighborhood  588 non-null    object\n",
      " 2   post title    588 non-null    object\n",
      " 3   URL           588 non-null    object\n",
      " 4   price         588 non-null    object\n",
      "dtypes: object(5)\n",
      "memory usage: 23.1+ KB\n",
      "None\n"
     ]
    },
    {
     "data": {
      "text/html": [
       "<div>\n",
       "<style scoped>\n",
       "    .dataframe tbody tr th:only-of-type {\n",
       "        vertical-align: middle;\n",
       "    }\n",
       "\n",
       "    .dataframe tbody tr th {\n",
       "        vertical-align: top;\n",
       "    }\n",
       "\n",
       "    .dataframe thead th {\n",
       "        text-align: right;\n",
       "    }\n",
       "</style>\n",
       "<table border=\"1\" class=\"dataframe\">\n",
       "  <thead>\n",
       "    <tr style=\"text-align: right;\">\n",
       "      <th></th>\n",
       "      <th>posted</th>\n",
       "      <th>neighborhood</th>\n",
       "      <th>post title</th>\n",
       "      <th>URL</th>\n",
       "      <th>price</th>\n",
       "    </tr>\n",
       "  </thead>\n",
       "  <tbody>\n",
       "    <tr>\n",
       "      <th>0</th>\n",
       "      <td>2021-06-23 20:51</td>\n",
       "      <td>(Houston)</td>\n",
       "      <td>GL Yng Male roommate wanted</td>\n",
       "      <td>https://houston.craigslist.org/roo/d/houston-g...</td>\n",
       "      <td></td>\n",
       "    </tr>\n",
       "    <tr>\n",
       "      <th>1</th>\n",
       "      <td>2021-06-23 20:49</td>\n",
       "      <td>(Montrose)</td>\n",
       "      <td>$975 - $1,025 2 Rooms in Montrose Garage Apart...</td>\n",
       "      <td>https://houston.craigslist.org/roo/d/houston-r...</td>\n",
       "      <td>\\n$975\\n</td>\n",
       "    </tr>\n",
       "    <tr>\n",
       "      <th>2</th>\n",
       "      <td>2021-06-23 20:36</td>\n",
       "      <td>(CANDLELIGHT FOREST WEST)</td>\n",
       "      <td>Room For Rent⭐⭐⭐</td>\n",
       "      <td>https://houston.craigslist.org/roo/d/houston-r...</td>\n",
       "      <td>\\n$625\\n</td>\n",
       "    </tr>\n",
       "    <tr>\n",
       "      <th>3</th>\n",
       "      <td>2021-06-23 19:41</td>\n",
       "      <td>(Sawyer Heights / Arts District)</td>\n",
       "      <td>ALL BILLS INCL*** FURNISHED MASTER BEDROOM / W...</td>\n",
       "      <td>https://houston.craigslist.org/roo/d/all-bills...</td>\n",
       "      <td>\\n$1,250\\n</td>\n",
       "    </tr>\n",
       "    <tr>\n",
       "      <th>4</th>\n",
       "      <td>2021-06-23 19:36</td>\n",
       "      <td>(Katy - Fulshear / Tamarron)</td>\n",
       "      <td>Brand New Room Upstairs For Rent $600</td>\n",
       "      <td>https://houston.craigslist.org/roo/d/katy-bran...</td>\n",
       "      <td>\\n$600\\n</td>\n",
       "    </tr>\n",
       "    <tr>\n",
       "      <th>...</th>\n",
       "      <td>...</td>\n",
       "      <td>...</td>\n",
       "      <td>...</td>\n",
       "      <td>...</td>\n",
       "      <td>...</td>\n",
       "    </tr>\n",
       "    <tr>\n",
       "      <th>583</th>\n",
       "      <td>2021-06-22 21:08</td>\n",
       "      <td>(houston)</td>\n",
       "      <td>Renting a room for a single female  living room</td>\n",
       "      <td>https://houston.craigslist.org/roo/d/houston-r...</td>\n",
       "      <td>\\n$650\\n</td>\n",
       "    </tr>\n",
       "    <tr>\n",
       "      <th>584</th>\n",
       "      <td>2021-06-22 20:55</td>\n",
       "      <td>(Downtown)</td>\n",
       "      <td>Penthouse sweet</td>\n",
       "      <td>https://houston.craigslist.org/roo/d/houston-p...</td>\n",
       "      <td>\\n$0\\n</td>\n",
       "    </tr>\n",
       "    <tr>\n",
       "      <th>585</th>\n",
       "      <td>2021-06-22 20:40</td>\n",
       "      <td>(Midtown)</td>\n",
       "      <td>Midtown furnished room with private bathroom</td>\n",
       "      <td>https://houston.craigslist.org/roo/d/houston-m...</td>\n",
       "      <td>\\n$990\\n</td>\n",
       "    </tr>\n",
       "    <tr>\n",
       "      <th>586</th>\n",
       "      <td>2021-06-22 20:10</td>\n",
       "      <td>(The Woodlands/Spring)</td>\n",
       "      <td>Furnished room for rent in the heart of The Wo...</td>\n",
       "      <td>https://houston.craigslist.org/roo/d/spring-fu...</td>\n",
       "      <td></td>\n",
       "    </tr>\n",
       "    <tr>\n",
       "      <th>587</th>\n",
       "      <td>2021-06-22 19:24</td>\n",
       "      <td>(Shady Acres)</td>\n",
       "      <td>2,500 ft2 - Heights area townhouse: furnished ...</td>\n",
       "      <td>https://houston.craigslist.org/roo/d/houston-2...</td>\n",
       "      <td>\\n$1,000\\n</td>\n",
       "    </tr>\n",
       "  </tbody>\n",
       "</table>\n",
       "<p>588 rows × 5 columns</p>\n",
       "</div>"
      ],
      "text/plain": [
       "               posted                       neighborhood  \\\n",
       "0    2021-06-23 20:51                          (Houston)   \n",
       "1    2021-06-23 20:49                         (Montrose)   \n",
       "2    2021-06-23 20:36          (CANDLELIGHT FOREST WEST)   \n",
       "3    2021-06-23 19:41   (Sawyer Heights / Arts District)   \n",
       "4    2021-06-23 19:36       (Katy - Fulshear / Tamarron)   \n",
       "..                ...                                ...   \n",
       "583  2021-06-22 21:08                          (houston)   \n",
       "584  2021-06-22 20:55                         (Downtown)   \n",
       "585  2021-06-22 20:40                          (Midtown)   \n",
       "586  2021-06-22 20:10             (The Woodlands/Spring)   \n",
       "587  2021-06-22 19:24                      (Shady Acres)   \n",
       "\n",
       "                                            post title  \\\n",
       "0                          GL Yng Male roommate wanted   \n",
       "1    $975 - $1,025 2 Rooms in Montrose Garage Apart...   \n",
       "2                                     Room For Rent⭐⭐⭐   \n",
       "3    ALL BILLS INCL*** FURNISHED MASTER BEDROOM / W...   \n",
       "4                Brand New Room Upstairs For Rent $600   \n",
       "..                                                 ...   \n",
       "583    Renting a room for a single female  living room   \n",
       "584                                    Penthouse sweet   \n",
       "585       Midtown furnished room with private bathroom   \n",
       "586  Furnished room for rent in the heart of The Wo...   \n",
       "587  2,500 ft2 - Heights area townhouse: furnished ...   \n",
       "\n",
       "                                                   URL       price  \n",
       "0    https://houston.craigslist.org/roo/d/houston-g...              \n",
       "1    https://houston.craigslist.org/roo/d/houston-r...    \\n$975\\n  \n",
       "2    https://houston.craigslist.org/roo/d/houston-r...    \\n$625\\n  \n",
       "3    https://houston.craigslist.org/roo/d/all-bills...  \\n$1,250\\n  \n",
       "4    https://houston.craigslist.org/roo/d/katy-bran...    \\n$600\\n  \n",
       "..                                                 ...         ...  \n",
       "583  https://houston.craigslist.org/roo/d/houston-r...    \\n$650\\n  \n",
       "584  https://houston.craigslist.org/roo/d/houston-p...      \\n$0\\n  \n",
       "585  https://houston.craigslist.org/roo/d/houston-m...    \\n$990\\n  \n",
       "586  https://houston.craigslist.org/roo/d/spring-fu...              \n",
       "587  https://houston.craigslist.org/roo/d/houston-2...  \\n$1,000\\n  \n",
       "\n",
       "[588 rows x 5 columns]"
      ]
     },
     "execution_count": 41,
     "metadata": {},
     "output_type": "execute_result"
    }
   ],
   "source": [
    "import pandas as pd\n",
    "\n",
    "eb_rooms = pd.DataFrame({'posted': post_timing,\n",
    "                       'neighborhood': post_hoods,\n",
    "                       'post title': post_title_texts,\n",
    "                       'URL': post_links,\n",
    "                       'price': post_prices})\n",
    "print(eb_rooms.info())\n",
    "eb_rooms.tail(1000)"
   ]
  },
  {
   "cell_type": "code",
   "execution_count": 57,
   "metadata": {},
   "outputs": [],
   "source": [
    "eb_rooms.to_csv('HoustonROOMSharing.csv',  encoding='utf-8', header='true')"
   ]
  },
  {
   "cell_type": "code",
   "execution_count": null,
   "metadata": {},
   "outputs": [],
   "source": []
  },
  {
   "cell_type": "code",
   "execution_count": null,
   "metadata": {},
   "outputs": [],
   "source": []
  }
 ],
 "metadata": {
  "kernelspec": {
   "display_name": "Python 3",
   "language": "python",
   "name": "python3"
  },
  "language_info": {
   "codemirror_mode": {
    "name": "ipython",
    "version": 3
   },
   "file_extension": ".py",
   "mimetype": "text/x-python",
   "name": "python",
   "nbconvert_exporter": "python",
   "pygments_lexer": "ipython3",
   "version": "3.8.5"
  }
 },
 "nbformat": 4,
 "nbformat_minor": 2
}
